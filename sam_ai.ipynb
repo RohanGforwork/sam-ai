{
  "nbformat": 4,
  "nbformat_minor": 0,
  "metadata": {
    "colab": {
      "provenance": [],
      "authorship_tag": "ABX9TyMSNLaFxCs9psX8WfTQ3XFw",
      "include_colab_link": true
    },
    "kernelspec": {
      "name": "python3",
      "display_name": "Python 3"
    },
    "language_info": {
      "name": "python"
    }
  },
  "cells": [
    {
      "cell_type": "markdown",
      "metadata": {
        "id": "view-in-github",
        "colab_type": "text"
      },
      "source": [
        "<a href=\"https://colab.research.google.com/github/RohanGforwork/sam-ai/blob/main/sam_ai.ipynb\" target=\"_parent\"><img src=\"https://colab.research.google.com/assets/colab-badge.svg\" alt=\"Open In Colab\"/></a>"
      ]
    },
    {
      "cell_type": "code",
      "source": [
        "!pip install geopandas"
      ],
      "metadata": {
        "colab": {
          "base_uri": "https://localhost:8080/"
        },
        "id": "nDW4jMlxQP9z",
        "outputId": "d6f0dbcb-9b5d-47e0-de7f-4d7245e66e57"
      },
      "execution_count": null,
      "outputs": [
        {
          "output_type": "stream",
          "name": "stdout",
          "text": [
            "Requirement already satisfied: geopandas in /usr/local/lib/python3.11/dist-packages (1.0.1)\n",
            "Requirement already satisfied: numpy>=1.22 in /usr/local/lib/python3.11/dist-packages (from geopandas) (2.0.2)\n",
            "Requirement already satisfied: pyogrio>=0.7.2 in /usr/local/lib/python3.11/dist-packages (from geopandas) (0.10.0)\n",
            "Requirement already satisfied: packaging in /usr/local/lib/python3.11/dist-packages (from geopandas) (24.2)\n",
            "Requirement already satisfied: pandas>=1.4.0 in /usr/local/lib/python3.11/dist-packages (from geopandas) (2.2.2)\n",
            "Requirement already satisfied: pyproj>=3.3.0 in /usr/local/lib/python3.11/dist-packages (from geopandas) (3.7.1)\n",
            "Requirement already satisfied: shapely>=2.0.0 in /usr/local/lib/python3.11/dist-packages (from geopandas) (2.0.7)\n",
            "Requirement already satisfied: python-dateutil>=2.8.2 in /usr/local/lib/python3.11/dist-packages (from pandas>=1.4.0->geopandas) (2.8.2)\n",
            "Requirement already satisfied: pytz>=2020.1 in /usr/local/lib/python3.11/dist-packages (from pandas>=1.4.0->geopandas) (2025.2)\n",
            "Requirement already satisfied: tzdata>=2022.7 in /usr/local/lib/python3.11/dist-packages (from pandas>=1.4.0->geopandas) (2025.2)\n",
            "Requirement already satisfied: certifi in /usr/local/lib/python3.11/dist-packages (from pyogrio>=0.7.2->geopandas) (2025.1.31)\n",
            "Requirement already satisfied: six>=1.5 in /usr/local/lib/python3.11/dist-packages (from python-dateutil>=2.8.2->pandas>=1.4.0->geopandas) (1.17.0)\n"
          ]
        }
      ]
    },
    {
      "cell_type": "code",
      "execution_count": null,
      "metadata": {
        "id": "HRYk-eH8EkEK"
      },
      "outputs": [],
      "source": [
        "import geopandas as gpd\n",
        "import pandas as pd\n",
        "from shapely.geometry import Point\n",
        "from tqdm import tqdm\n",
        "import os\n",
        "\n"
      ]
    },
    {
      "cell_type": "code",
      "source": [
        "from google.colab import drive\n",
        "drive.mount('/content/drive')"
      ],
      "metadata": {
        "colab": {
          "base_uri": "https://localhost:8080/"
        },
        "id": "pwA-T7_3aUih",
        "outputId": "9dcb98db-40b5-48e9-ca4a-5cc71accb20b"
      },
      "execution_count": null,
      "outputs": [
        {
          "output_type": "stream",
          "name": "stdout",
          "text": [
            "Mounted at /content/drive\n"
          ]
        }
      ]
    },
    {
      "cell_type": "code",
      "source": [
        "\n",
        "RAW_FOLDER = \"/content/drive/MyDrive/pragathi/data/raw\"\n",
        "TAGGED_FOLDER = \"/content/drive/MyDrive/pragathi/data/tagged\"\n",
        "SHAPEFILE_PATH = \"/content/drive/MyDrive/pragathi/data/shapefile/ne_110m_admin_0_countries.shp\"\n",
        "\n",
        "os.makedirs(OUTPUT_FOLDER, exist_ok=True)\n"
      ],
      "metadata": {
        "id": "HJraXRH7QCfQ"
      },
      "execution_count": null,
      "outputs": []
    },
    {
      "cell_type": "code",
      "source": [
        "\n",
        "print(\"Loading shapefile...\")\n",
        "world = gpd.read_file(\"/content/drive/MyDrive/pragathi/data/shapefile\")\n",
        "print(\"Shapefile loaded.\")\n",
        "\n",
        "def tag_country(df):\n",
        "    geometry = [Point(xy) for xy in zip(df['longitude'], df['latitude'])]\n",
        "    gdf = gpd.GeoDataFrame(df, geometry=geometry, crs='EPSG:4326')\n",
        "    gdf = gpd.sjoin(gdf, world[['geometry', 'ADMIN']], how='left', predicate='within')\n",
        "    gdf = gdf.rename(columns={'ADMIN': 'country'})\n",
        "    return gdf.drop(columns=['geometry', 'index_right'])\n",
        "\n",
        "for filename in os.listdir(RAW_FOLDER):\n",
        "    if filename.endswith(\".csv\"):\n",
        "        print(f\"\\n📦 Processing: {filename}\")\n",
        "        df = pd.read_csv(os.path.join(RAW_FOLDER, filename))\n",
        "\n",
        "        chunk_size = 100_000\n",
        "        chunks = [df[i:i+chunk_size] for i in range(0, len(df), chunk_size)]\n",
        "        tagged_chunks = []\n",
        "\n",
        "        for chunk in tqdm(chunks):\n",
        "            tagged = tag_country(chunk)\n",
        "            tagged_chunks.append(tagged)\n",
        "\n",
        "        final_df = pd.concat(tagged_chunks)\n",
        "        output_file = os.path.join(TAGGED_FOLDER, f\"tagged_{filename}\")\n",
        "        final_df.to_csv(output_file, index=False)\n",
        "        print(f\"✅ Saved tagged file to: {output_file}\")"
      ],
      "metadata": {
        "colab": {
          "base_uri": "https://localhost:8080/"
        },
        "id": "yNWS3ySFQFQi",
        "outputId": "2c9a553f-d4a1-419d-cff8-bfbfc33d22fb"
      },
      "execution_count": null,
      "outputs": [
        {
          "output_type": "stream",
          "name": "stdout",
          "text": [
            "Loading shapefile...\n",
            "Shapefile loaded.\n",
            "\n",
            "📦 Processing: 20-21.csv\n"
          ]
        },
        {
          "output_type": "stream",
          "name": "stderr",
          "text": [
            "100%|██████████| 208/208 [14:41<00:00,  4.24s/it]\n"
          ]
        },
        {
          "output_type": "stream",
          "name": "stdout",
          "text": [
            "✅ Saved tagged file to: /content/drive/MyDrive/pragathi/data/tagged/tagged_20-21.csv\n",
            "\n",
            "📦 Processing: 21-22.csv\n"
          ]
        },
        {
          "output_type": "stream",
          "name": "stderr",
          "text": [
            "100%|██████████| 204/204 [14:28<00:00,  4.26s/it]\n"
          ]
        },
        {
          "output_type": "stream",
          "name": "stdout",
          "text": [
            "✅ Saved tagged file to: /content/drive/MyDrive/pragathi/data/tagged/tagged_21-22.csv\n",
            "\n",
            "📦 Processing: 22-23.csv\n"
          ]
        },
        {
          "output_type": "stream",
          "name": "stderr",
          "text": [
            "100%|██████████| 173/173 [12:16<00:00,  4.26s/it]\n"
          ]
        },
        {
          "output_type": "stream",
          "name": "stdout",
          "text": [
            "✅ Saved tagged file to: /content/drive/MyDrive/pragathi/data/tagged/tagged_22-23.csv\n",
            "\n",
            "📦 Processing: 23-24.csv\n"
          ]
        },
        {
          "output_type": "stream",
          "name": "stderr",
          "text": [
            "100%|██████████| 219/219 [15:18<00:00,  4.19s/it]\n"
          ]
        },
        {
          "output_type": "stream",
          "name": "stdout",
          "text": [
            "✅ Saved tagged file to: /content/drive/MyDrive/pragathi/data/tagged/tagged_23-24.csv\n",
            "\n",
            "📦 Processing: 24-25.csv\n"
          ]
        },
        {
          "output_type": "stream",
          "name": "stderr",
          "text": [
            "100%|██████████| 212/212 [14:54<00:00,  4.22s/it]\n"
          ]
        },
        {
          "output_type": "stream",
          "name": "stdout",
          "text": [
            "✅ Saved tagged file to: /content/drive/MyDrive/pragathi/data/tagged/tagged_24-25.csv\n"
          ]
        }
      ]
    },
    {
      "cell_type": "markdown",
      "source": [
        "**the preprocessing of data stops here , do not run the above code **"
      ],
      "metadata": {
        "id": "JQP8lnmmRLw4"
      }
    },
    {
      "cell_type": "markdown",
      "source": [
        "**start from here**"
      ],
      "metadata": {
        "id": "aN6k8pT8RI6d"
      }
    },
    {
      "cell_type": "code",
      "source": [
        "import pandas as pd\n",
        "import os\n",
        "from glob import glob\n",
        "\n",
        "data_dir = '/content/drive/MyDrive/pragathi/data/tagged'\n",
        "all_files = sorted(glob(os.path.join(data_dir, 'tagged_*.csv')))\n",
        "\n",
        "df_all = pd.concat([pd.read_csv(file) for file in all_files], ignore_index=True)\n",
        "\n",
        "print(f\"Loaded {len(df_all):,} total rows from {len(all_files)} files.\")\n"
      ],
      "metadata": {
        "colab": {
          "base_uri": "https://localhost:8080/"
        },
        "id": "LCxy6N2FbGeU",
        "outputId": "96a6e6ad-ea94-4916-b79e-a047e9a942a0"
      },
      "execution_count": null,
      "outputs": [
        {
          "output_type": "stream",
          "name": "stdout",
          "text": [
            "Loaded 80,304,466 total rows from 4 files.\n"
          ]
        }
      ]
    },
    {
      "cell_type": "code",
      "source": [
        "import os\n",
        "\n",
        "output_dir = '/content/drive/MyDrive/pragathi/data/combined'\n",
        "os.makedirs(output_dir, exist_ok=True)\n",
        "\n",
        "output_file = os.path.join(output_dir, 'combined_2020_2025.csv')\n",
        "df_all.to_csv(output_file, index=False)\n",
        "\n",
        "print(f\"✅ Combined file saved to: {output_file}\")\n",
        "\n"
      ],
      "metadata": {
        "colab": {
          "base_uri": "https://localhost:8080/"
        },
        "id": "tbQ4Bo-KcKKa",
        "outputId": "13e79885-d6fa-403d-a521-946759b449dd"
      },
      "execution_count": null,
      "outputs": [
        {
          "output_type": "stream",
          "name": "stdout",
          "text": [
            "✅ Combined file saved to: /content/drive/MyDrive/pragathi/data/combined/combined_2020_2025.csv\n"
          ]
        }
      ]
    },
    {
      "cell_type": "code",
      "source": [
        "\n",
        "import pandas as pd\n",
        "from sklearn.ensemble import RandomForestClassifier\n",
        "from sklearn.model_selection import train_test_split\n",
        "from sklearn.metrics import classification_report\n",
        "import seaborn as sns\n",
        "import matplotlib.pyplot as plt\n",
        "\n",
        "df = pd.read_csv('/content/drive/MyDrive/pragathi/data/combined/combined_2020_2025.csv')\n",
        "\n",
        "\n"
      ],
      "metadata": {
        "id": "jlSaxLylavUe"
      },
      "execution_count": null,
      "outputs": []
    },
    {
      "cell_type": "code",
      "source": [
        "df.columns"
      ],
      "metadata": {
        "colab": {
          "base_uri": "https://localhost:8080/"
        },
        "id": "ZbHu7KsBf3Lp",
        "outputId": "0b387c07-7196-4740-c3c1-48eba0b0dd28"
      },
      "execution_count": null,
      "outputs": [
        {
          "output_type": "execute_result",
          "data": {
            "text/plain": [
              "Index(['latitude', 'longitude', 'brightness', 'scan', 'track', 'acq_date',\n",
              "       'acq_time', 'satellite', 'instrument', 'confidence', 'version',\n",
              "       'bright_t31', 'frp', 'daynight', 'type', 'country', 'year', 'month',\n",
              "       'day', 'lat_bin', 'lon_bin'],\n",
              "      dtype='object')"
            ]
          },
          "metadata": {},
          "execution_count": 10
        }
      ]
    },
    {
      "cell_type": "code",
      "source": [
        "df['acq_date'] = pd.to_datetime(df['acq_date'])\n",
        "df['year'] = df['acq_date'].dt.year\n",
        "df['month'] = df['acq_date'].dt.month\n",
        "df['day'] = df['acq_date'].dt.day\n",
        "\n",
        "# --- GRID THE WORLD (0.5° x 0.5° ZONES) ---\n",
        "df['lat_bin'] = df['latitude'].apply(lambda x: round(x * 2) / 2)\n",
        "df['lon_bin'] = df['longitude'].apply(lambda x: round(x * 2) / 2)\n",
        "\n"
      ],
      "metadata": {
        "id": "U7qiL0vMfU__"
      },
      "execution_count": null,
      "outputs": []
    },
    {
      "cell_type": "code",
      "source": [
        "\n",
        "\n",
        "zone_monthly = df.groupby(['lat_bin', 'lon_bin', 'month']).agg({\n",
        "    'brightness': 'mean',\n",
        "    'frp': 'mean',\n",
        "    'latitude': 'count'\n",
        "}).reset_index().rename(columns={'latitude': 'fire_count'})\n",
        "\n",
        "\n",
        "zone_monthly.rename(columns={'confidence': 'fire_count'}, inplace=True)\n"
      ],
      "metadata": {
        "id": "bxN5bhXChKDJ"
      },
      "execution_count": null,
      "outputs": []
    },
    {
      "cell_type": "code",
      "source": [
        "\n",
        "def assign_risk(count):\n",
        "    if count >= 100:\n",
        "        return 'high'\n",
        "    elif count >= 30:\n",
        "        return 'medium'\n",
        "    else:\n",
        "        return 'low'\n",
        "\n",
        "zone_monthly['risk_level'] = zone_monthly['fire_count'].apply(assign_risk)\n",
        "\n",
        "zone_model = zone_monthly[['lat_bin', 'lon_bin', 'month', 'brightness', 'frp', 'risk_level']].dropna()\n",
        "\n",
        "from sklearn.preprocessing import LabelEncoder\n",
        "le = LabelEncoder()\n",
        "zone_model['risk_encoded'] = le.fit_transform(zone_model['risk_level'])\n",
        "\n",
        "X = zone_model[['lat_bin', 'lon_bin', 'month', 'brightness', 'frp']]\n",
        "y = zone_model['risk_encoded']\n",
        "\n",
        "X_train, X_test, y_train, y_test = train_test_split(X, y, stratify=y, test_size=0.2, random_state=42)\n",
        "\n",
        "model = RandomForestClassifier(n_estimators=100, random_state=42)\n",
        "model.fit(X_train, y_train)\n",
        "\n",
        "y_pred = model.predict(X_test)\n",
        "print(\"Classification Report:\\n\")\n",
        "print(classification_report(y_test, y_pred, target_names=le.classes_))\n",
        "\n",
        "sns.countplot(x='risk_level', data=zone_model)\n",
        "plt.title(\"Distribution of Fire Risk Levels\")\n",
        "plt.show()"
      ],
      "metadata": {
        "colab": {
          "base_uri": "https://localhost:8080/",
          "height": 690
        },
        "id": "WOhwtPMrfXHb",
        "outputId": "f543f68c-7eaf-4797-833e-51d1bf708b74"
      },
      "execution_count": null,
      "outputs": [
        {
          "output_type": "stream",
          "name": "stdout",
          "text": [
            "Classification Report:\n",
            "\n",
            "              precision    recall  f1-score   support\n",
            "\n",
            "        high       0.75      0.78      0.77     17474\n",
            "         low       0.81      0.91      0.86     40425\n",
            "      medium       0.48      0.26      0.34     12659\n",
            "\n",
            "    accuracy                           0.76     70558\n",
            "   macro avg       0.68      0.65      0.65     70558\n",
            "weighted avg       0.74      0.76      0.74     70558\n",
            "\n"
          ]
        },
        {
          "output_type": "display_data",
          "data": {
            "text/plain": [
              "<Figure size 640x480 with 1 Axes>"
            ],
            "image/png": "[encoded data removed]"
          },
          "metadata": {}
        }
      ]
    },
    {
      "cell_type": "code",
      "source": [
        "from sklearn.metrics import confusion_matrix, ConfusionMatrixDisplay\n",
        "\n",
        "cm = confusion_matrix(y_test, y_pred)\n",
        "disp = ConfusionMatrixDisplay(confusion_matrix=cm, display_labels=le.classes_)\n",
        "disp.plot(cmap='Oranges')\n",
        "plt.title(\"Confusion Matrix - Fire Risk Classification\")\n",
        "plt.show()\n"
      ],
      "metadata": {
        "colab": {
          "base_uri": "https://localhost:8080/",
          "height": 472
        },
        "id": "FOW_s78ZjRY_",
        "outputId": "a4472397-8ac2-43d6-833a-feebe48ff7c6"
      },
      "execution_count": null,
      "outputs": [
        {
          "output_type": "display_data",
          "data": {
            "text/plain": [
              "<Figure size 640x480 with 2 Axes>"
            ],
            "image/png": "[encoded data removed]"
          },
          "metadata": {}
        }
      ]
    },
    {
      "cell_type": "code",
      "source": [
        "importances = model.feature_importances_\n",
        "features = X.columns\n",
        "\n",
        "sns.barplot(x=importances, y=features)\n",
        "plt.title(\"Feature Importance\")\n",
        "plt.show()\n"
      ],
      "metadata": {
        "colab": {
          "base_uri": "https://localhost:8080/",
          "height": 452
        },
        "id": "0pzyK4k-jVcs",
        "outputId": "6133f327-637f-4477-e9ec-9a99c15a2994"
      },
      "execution_count": null,
      "outputs": [
        {
          "output_type": "display_data",
          "data": {
            "text/plain": [
              "<Figure size 640x480 with 1 Axes>"
            ],
            "image/png": "[encoded data removed]"
          },
          "metadata": {}
        }
      ]
    },
    {
      "cell_type": "code",
      "source": [
        "import joblib\n",
        "joblib.dump(model, 'fire_risk_rf_model.pkl')\n",
        "joblib.dump(le, 'label_encoder.pkl')\n"
      ],
      "metadata": {
        "colab": {
          "base_uri": "https://localhost:8080/"
        },
        "id": "3Ph1kf7qjWjr",
        "outputId": "71582877-5452-4234-b242-70d899aeaf81"
      },
      "execution_count": null,
      "outputs": [
        {
          "output_type": "execute_result",
          "data": {
            "text/plain": [
              "['label_encoder.pkl']"
            ]
          },
          "metadata": {},
          "execution_count": 19
        }
      ]
    },
    {
      "cell_type": "code",
      "source": [
        "def predict_risk(lat, lon, month, brightness, frp):\n",
        "    lat_bin = round(lat * 2) / 2\n",
        "    lon_bin = round(lon * 2) / 2\n",
        "    X_new = pd.DataFrame([[lat_bin, lon_bin, month, brightness, frp]],\n",
        "                         columns=['lat_bin', 'lon_bin', 'month', 'brightness', 'frp'])\n",
        "    pred = model.predict(X_new)[0]\n",
        "    return le.inverse_transform([pred])[0]\n"
      ],
      "metadata": {
        "id": "k8ywP0w0jY2T"
      },
      "execution_count": null,
      "outputs": []
    },
    {
      "cell_type": "code",
      "source": [
        "import numpy as np\n",
        "import pandas as pd\n",
        "\n",
        "def predict_fire_risk(lat, lon, date_str, model, label_encoder, default_brightness, default_frp):\n",
        "\n",
        "    date = pd.to_datetime(date_str)\n",
        "    month = date.month\n",
        "\n",
        "    lat_bin = round(lat * 2) / 2\n",
        "    lon_bin = round(lon * 2) / 2\n",
        "\n",
        "    input_data = pd.DataFrame([{\n",
        "        'lat_bin': lat_bin,\n",
        "        'lon_bin': lon_bin,\n",
        "        'month': month,\n",
        "        'brightness': default_brightness,\n",
        "        'frp': default_frp\n",
        "    }])\n",
        "\n",
        "    pred_proba = model.predict_proba(input_data)[0]\n",
        "    pred_class = model.predict(input_data)[0]\n",
        "    pred_label = label_encoder.inverse_transform([pred_class])[0]\n",
        "    confidence = np.max(pred_proba)\n",
        "\n",
        "    return {\n",
        "        'latitude': lat,\n",
        "        'longitude': lon,\n",
        "        'month': month,\n",
        "        'risk_level': pred_label,\n",
        "        'confidence': round(confidence, 2)\n",
        "    }\n"
      ],
      "metadata": {
        "id": "d8tgUqOwj64a"
      },
      "execution_count": null,
      "outputs": []
    },
    {
      "cell_type": "code",
      "source": [
        "def predict_fire_risk_smart(model, label_encoder, zone_monthly, latitude, longitude, month):\n",
        "\n",
        "    lat_bin = round(latitude * 2) / 2\n",
        "    lon_bin = round(longitude * 2) / 2\n",
        "\n",
        "    row = zone_monthly[\n",
        "        (zone_monthly['lat_bin'] == lat_bin) &\n",
        "        (zone_monthly['lon_bin'] == lon_bin) &\n",
        "        (zone_monthly['month'] == month)\n",
        "    ]\n",
        "\n",
        "    if row.empty:\n",
        "        return \"❌ No historical data for this region and month\"\n",
        "\n",
        "    input_data = pd.DataFrame([{\n",
        "        'lat_bin': lat_bin,\n",
        "        'lon_bin': lon_bin,\n",
        "        'month': month,\n",
        "        'brightness': row['brightness'].values[0],\n",
        "        'frp': row['frp'].values[0]\n",
        "    }])\n",
        "\n",
        "    pred_encoded = model.predict(input_data)[0]\n",
        "    risk_label = label_encoder.inverse_transform([pred_encoded])[0]\n",
        "    return risk_label\n"
      ],
      "metadata": {
        "id": "DSsZoxE9lNRs"
      },
      "execution_count": null,
      "outputs": []
    },
    {
      "cell_type": "code",
      "source": [
        "risk = predict_fire_risk_smart(model, le, zone_monthly, 34.6, -118.3, 6)\n",
        "print(\"🔥 Fire Risk Prediction:\", risk)\n"
      ],
      "metadata": {
        "colab": {
          "base_uri": "https://localhost:8080/"
        },
        "id": "UMO616iNlQZd",
        "outputId": "9f15393b-06a0-439e-f45c-32881e439d41"
      },
      "execution_count": null,
      "outputs": [
        {
          "output_type": "stream",
          "name": "stdout",
          "text": [
            "🔥 Fire Risk Prediction: high\n"
          ]
        }
      ]
    },
    {
      "cell_type": "code",
      "source": [
        "def predict_fire_risk_from_data(lat, lon, date_str, model, label_encoder, zone_month_avg):\n",
        "    date = pd.to_datetime(date_str)\n",
        "    month = date.month\n",
        "\n",
        "    lat_bin = round(lat * 2) / 2\n",
        "    lon_bin = round(lon * 2) / 2\n",
        "\n",
        "\n",
        "    match = zone_month_avg[\n",
        "        (zone_month_avg['lat_bin'] == lat_bin) &\n",
        "        (zone_month_avg['lon_bin'] == lon_bin) &\n",
        "        (zone_month_avg['month'] == month)\n",
        "    ]\n",
        "\n",
        "    if match.empty:\n",
        "\n",
        "        brightness = 340\n",
        "        frp = 20\n",
        "    else:\n",
        "        brightness = match['brightness'].values[0]\n",
        "        frp = match['frp'].values[0]\n",
        "\n",
        "    input_data = pd.DataFrame([{\n",
        "        'lat_bin': lat_bin,\n",
        "        'lon_bin': lon_bin,\n",
        "        'month': month,\n",
        "        'brightness': brightness,\n",
        "        'frp': frp\n",
        "    }])\n",
        "\n",
        "    pred_proba = model.predict_proba(input_data)[0]\n",
        "    pred_class = model.predict(input_data)[0]\n",
        "    pred_label = label_encoder.inverse_transform([pred_class])[0]\n",
        "    confidence = np.max(pred_proba)\n",
        "\n",
        "    return {\n",
        "        'latitude': lat,\n",
        "        'longitude': lon,\n",
        "        'month': month,\n",
        "        'lat_bin': lat_bin,\n",
        "        'lon_bin': lon_bin,\n",
        "        'risk_level': pred_label,\n",
        "        'confidence': round(confidence, 2)\n",
        "    }\n"
      ],
      "metadata": {
        "id": "0alVgdasoVOD"
      },
      "execution_count": null,
      "outputs": []
    },
    {
      "cell_type": "code",
      "source": [
        "\n",
        "zone_month_avg = df.groupby(['lat_bin', 'lon_bin', 'month'])[['brightness', 'frp']].mean().reset_index()\n",
        "df = df.rename(columns={'bright_ti4': 'brightness'})\n",
        "\n",
        "lat = float(input(\"Enter Latitude: \"))        # e.g., 34.6\n",
        "lon = float(input(\"Enter Longitude: \"))       # e.g., -118.3\n",
        "date_str = input(\"Enter Date (YYYY-MM-DD): \") # e.g., 2025-04-07\n",
        "\n",
        "\n",
        "result = predict_fire_risk_from_data(\n",
        "    lat=lat,\n",
        "    lon=lon,\n",
        "    date_str=date_str,\n",
        "    model=model,\n",
        "    label_encoder=le,\n",
        "    zone_month_avg=zone_month_avg\n",
        ")\n",
        "\n",
        "print(f\"\\n🔥 Fire Risk Prediction for {date_str}\")\n",
        "print(f\"📍 Location: ({result['latitude']}, {result['longitude']})\")\n",
        "print(f\"📅 Month: {result['month']}\")\n",
        "print(f\"🧠 Risk Level: {result['risk_level'].upper()} (Confidence: {result['confidence']*100:.1f}%)\")\n"
      ],
      "metadata": {
        "colab": {
          "base_uri": "https://localhost:8080/",
          "height": 219
        },
        "id": "JS5FVOQ8oa48",
        "outputId": "ec0cd848-cce9-4b9f-e350-c46a88bd9d47"
      },
      "execution_count": null,
      "outputs": [
        {
          "output_type": "error",
          "ename": "NameError",
          "evalue": "name 'df' is not defined",
          "traceback": [
            "\u001b[0;31m---------------------------------------------------------------------------\u001b[0m",
            "\u001b[0;31mNameError\u001b[0m                                 Traceback (most recent call last)",
            "\u001b[0;32m<ipython-input-5-d2d6ee5fa651>\u001b[0m in \u001b[0;36m<cell line: 0>\u001b[0;34m()\u001b[0m\n\u001b[0;32m----> 1\u001b[0;31m \u001b[0mzone_month_avg\u001b[0m \u001b[0;34m=\u001b[0m \u001b[0mdf\u001b[0m\u001b[0;34m.\u001b[0m\u001b[0mgroupby\u001b[0m\u001b[0;34m(\u001b[0m\u001b[0;34m[\u001b[0m\u001b[0;34m'lat_bin'\u001b[0m\u001b[0;34m,\u001b[0m \u001b[0;34m'lon_bin'\u001b[0m\u001b[0;34m,\u001b[0m \u001b[0;34m'month'\u001b[0m\u001b[0;34m]\u001b[0m\u001b[0;34m)\u001b[0m\u001b[0;34m[\u001b[0m\u001b[0;34m[\u001b[0m\u001b[0;34m'brightness'\u001b[0m\u001b[0;34m,\u001b[0m \u001b[0;34m'frp'\u001b[0m\u001b[0;34m]\u001b[0m\u001b[0;34m]\u001b[0m\u001b[0;34m.\u001b[0m\u001b[0mmean\u001b[0m\u001b[0;34m(\u001b[0m\u001b[0;34m)\u001b[0m\u001b[0;34m.\u001b[0m\u001b[0mreset_index\u001b[0m\u001b[0;34m(\u001b[0m\u001b[0;34m)\u001b[0m\u001b[0;34m\u001b[0m\u001b[0;34m\u001b[0m\u001b[0m\n\u001b[0m\u001b[1;32m      2\u001b[0m \u001b[0mdf\u001b[0m \u001b[0;34m=\u001b[0m \u001b[0mdf\u001b[0m\u001b[0;34m.\u001b[0m\u001b[0mrename\u001b[0m\u001b[0;34m(\u001b[0m\u001b[0mcolumns\u001b[0m\u001b[0;34m=\u001b[0m\u001b[0;34m{\u001b[0m\u001b[0;34m'bright_ti4'\u001b[0m\u001b[0;34m:\u001b[0m \u001b[0;34m'brightness'\u001b[0m\u001b[0;34m}\u001b[0m\u001b[0;34m)\u001b[0m\u001b[0;34m\u001b[0m\u001b[0;34m\u001b[0m\u001b[0m\n\u001b[1;32m      3\u001b[0m \u001b[0;34m\u001b[0m\u001b[0m\n\u001b[1;32m      4\u001b[0m \u001b[0mlat\u001b[0m \u001b[0;34m=\u001b[0m \u001b[0mfloat\u001b[0m\u001b[0;34m(\u001b[0m\u001b[0minput\u001b[0m\u001b[0;34m(\u001b[0m\u001b[0;34m\"Enter Latitude: \"\u001b[0m\u001b[0;34m)\u001b[0m\u001b[0;34m)\u001b[0m        \u001b[0;31m# e.g., 34.6\u001b[0m\u001b[0;34m\u001b[0m\u001b[0;34m\u001b[0m\u001b[0m\n\u001b[1;32m      5\u001b[0m \u001b[0mlon\u001b[0m \u001b[0;34m=\u001b[0m \u001b[0mfloat\u001b[0m\u001b[0;34m(\u001b[0m\u001b[0minput\u001b[0m\u001b[0;34m(\u001b[0m\u001b[0;34m\"Enter Longitude: \"\u001b[0m\u001b[0;34m)\u001b[0m\u001b[0;34m)\u001b[0m       \u001b[0;31m# e.g., -118.3\u001b[0m\u001b[0;34m\u001b[0m\u001b[0;34m\u001b[0m\u001b[0m\n",
            "\u001b[0;31mNameError\u001b[0m: name 'df' is not defined"
          ]
        }
      ]
    },
    {
      "cell_type": "markdown",
      "source": [
        "coordinate grid interpolation - if data not available for a wide section , i.e antratica then show data not available"
      ],
      "metadata": {
        "id": "geGnI6I8Q888"
      }
    },
    {
      "cell_type": "code",
      "source": [
        "from scipy.spatial import KDTree\n",
        "import numpy as np\n",
        "\n",
        "data_coords = df[['latitude', 'longitude']].values\n",
        "tree = KDTree(data_coords)\n",
        "\n",
        "def get_nearest_point_risk(lat, lon):\n",
        "    distance, index = tree.query([lat, lon])\n",
        "    nearest_row = df.iloc[index]\n",
        "    features = extract_features(nearest_row)\n",
        "    return model.predict([features]), model.predict_proba([features])\n"
      ],
      "metadata": {
        "id": "3iAghPAVQRnM"
      },
      "execution_count": null,
      "outputs": []
    },
    {
      "cell_type": "markdown",
      "source": [
        "Xone risk for wider space model"
      ],
      "metadata": {
        "id": "IvzSr1jdQW9P"
      }
    },
    {
      "cell_type": "code",
      "source": [
        "# Define 0.05-degree grid zones (adjust granularity as needed)\n",
        "df['grid_lat'] = df['latitude'].round(2)\n",
        "df['grid_lon'] = df['longitude'].round(2)\n",
        "\n",
        "df['risk'] = model.predict(df[feature_cols])\n",
        "\n",
        "zone_risk = df.groupby(['grid_lat', 'grid_lon'])['risk'].agg(lambda x: x.value_counts().idxmax()).reset_index()\n"
      ],
      "metadata": {
        "id": "DdcWgOp_QSYM"
      },
      "execution_count": null,
      "outputs": []
    },
    {
      "cell_type": "markdown",
      "source": [
        "trend analysis"
      ],
      "metadata": {
        "id": "u0-doe5mQvgv"
      }
    },
    {
      "cell_type": "code",
      "source": [
        "import matplotlib.pyplot as plt\n",
        "import seaborn as sns\n",
        "\n",
        "\n",
        "df['month'] = pd.to_datetime(df['acq_date']).dt.month\n",
        "df['year'] = pd.to_datetime(df['acq_date']).dt.year\n",
        "\n",
        "# Trend by month\n",
        "monthly_trend = df.groupby('month').size().reset_index(name='fire_count')\n",
        "\n",
        "sns.lineplot(data=monthly_trend, x='month', y='fire_count')\n",
        "plt.title(\"🔥 Monthly Forest Fire Trend\")\n",
        "plt.xlabel(\"Month\")\n",
        "plt.ylabel(\"Number of Fires\")\n",
        "plt.grid(True)\n",
        "plt.show()\n"
      ],
      "metadata": {
        "id": "sJa661acQu0p"
      },
      "execution_count": null,
      "outputs": []
    }
  ]
}